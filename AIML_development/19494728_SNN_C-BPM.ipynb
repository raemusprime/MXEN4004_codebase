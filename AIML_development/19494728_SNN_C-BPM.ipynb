{
 "cells": [
  {
   "cell_type": "code",
   "execution_count": null,
   "id": "3772ff16",
   "metadata": {},
   "outputs": [],
   "source": [
    "#Python Notebook for devlopment and training of SNN for C-BPM algorithm utilising PPG for clinical based patient monitoring\n"
   ]
  }
 ],
 "metadata": {
  "language_info": {
   "name": "python"
  }
 },
 "nbformat": 4,
 "nbformat_minor": 5
}
